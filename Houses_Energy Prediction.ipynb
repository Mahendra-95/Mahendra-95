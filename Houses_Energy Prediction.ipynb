{
 "cells": [
  {
   "cell_type": "code",
   "execution_count": 1,
   "id": "5ca10124-d98c-4b54-854a-e8f5cf8aad3e",
   "metadata": {},
   "outputs": [
    {
     "name": "stdin",
     "output_type": "stream",
     "text": [
      "Enter the number of houses:  3\n"
     ]
    },
    {
     "name": "stdout",
     "output_type": "stream",
     "text": [
      "House 1:\n"
     ]
    },
    {
     "name": "stdin",
     "output_type": "stream",
     "text": [
      "Enter the number of solar panels for House 1:  4\n"
     ]
    },
    {
     "name": "stderr",
     "output_type": "stream",
     "text": [
      "C:\\Users\\admin\\AppData\\Local\\Programs\\Python\\Python311\\Lib\\site-packages\\sklearn\\base.py:465: UserWarning: X does not have valid feature names, but LinearRegression was fitted with feature names\n",
      "  warnings.warn(\n"
     ]
    },
    {
     "name": "stdout",
     "output_type": "stream",
     "text": [
      "House 2:\n"
     ]
    },
    {
     "name": "stdin",
     "output_type": "stream",
     "text": [
      "Enter the number of solar panels for House 2:  0\n"
     ]
    },
    {
     "name": "stderr",
     "output_type": "stream",
     "text": [
      "C:\\Users\\admin\\AppData\\Local\\Programs\\Python\\Python311\\Lib\\site-packages\\sklearn\\base.py:465: UserWarning: X does not have valid feature names, but LinearRegression was fitted with feature names\n",
      "  warnings.warn(\n"
     ]
    },
    {
     "name": "stdout",
     "output_type": "stream",
     "text": [
      "House 3:\n"
     ]
    },
    {
     "name": "stdin",
     "output_type": "stream",
     "text": [
      "Enter the number of solar panels for House 3:  5\n"
     ]
    },
    {
     "name": "stderr",
     "output_type": "stream",
     "text": [
      "C:\\Users\\admin\\AppData\\Local\\Programs\\Python\\Python311\\Lib\\site-packages\\sklearn\\base.py:465: UserWarning: X does not have valid feature names, but LinearRegression was fitted with feature names\n",
      "  warnings.warn(\n"
     ]
    },
    {
     "name": "stdout",
     "output_type": "stream",
     "text": [
      "Monthly predicted energy and Houses and Solar Panels data exported to monthly_predicted_energy.xlsx\n"
     ]
    }
   ],
   "source": [
    "import pandas as pd\n",
    "from sklearn.linear_model import LinearRegression\n",
    "\n",
    "# Load the data\n",
    "energy_consumption_data = {\n",
    "    \"House\": [\"House 1\", \"House 2\", \"House 3\"],\n",
    "    \"Solar Panels\": [0, 2, 4],\n",
    "    \"January\": [40.30544926, -257.5945507, -555.4945507],\n",
    "    \"February\": [41.3088109, -272.1911891, -585.6911891],\n",
    "    \"March\": [37.69104411, -518.4089559, -1074.508956],\n",
    "    \"April\": [33.42305425, -679.9769458, -1393.376946],\n",
    "    \"May\": [31.71028294, -836.7897171, -1705.289717],\n",
    "    \"June\": [32.24117223, -668.1588278, -1368.558828],\n",
    "    \"July\": [31.38482269, -510.5151773, -1052.415177],\n",
    "    \"August\": [32.60341788, -541.3965821, -1115.396582],\n",
    "    \"September\": [33.35988311, -475.3401169, -984.0401169],\n",
    "    \"October\": [34.59850672, -418.8014933, -872.2014933],\n",
    "    \"November\": [38.16800822, -264.5319918, -567.2319918],\n",
    "    \"December\": [39.34684841, -216.3531516, -472.0531516]\n",
    "}\n",
    "\n",
    "energy_consumption_df = pd.DataFrame(energy_consumption_data)\n",
    "\n",
    "# Function to train linear regression model\n",
    "def train_model(X, y):\n",
    "    model = LinearRegression()\n",
    "    model.fit(X, y)\n",
    "    return model\n",
    "\n",
    "# Take input from the user for the number of houses\n",
    "while True:\n",
    "    try:\n",
    "        num_houses = int(input(\"Enter the number of houses: \"))\n",
    "        if num_houses <= 0:\n",
    "            print(\"Please enter a positive number of houses.\")\n",
    "        else:\n",
    "            break\n",
    "    except ValueError:\n",
    "        print(\"Please enter a valid integer.\")\n",
    "\n",
    "# Predict energy consumption for each house\n",
    "total_energy_consumption = {}\n",
    "monthly_predicted_energy = {}\n",
    "houses_solar_panels = {}\n",
    "\n",
    "for i in range(1, num_houses + 1):\n",
    "    print(f\"House {i}:\")\n",
    "    while True:\n",
    "        try:\n",
    "            num_solar_panels = int(input(f\"Enter the number of solar panels for House {i}: \"))\n",
    "            if num_solar_panels < 0:\n",
    "                print(\"Please enter a non-negative number of solar panels.\")\n",
    "            else:\n",
    "                break\n",
    "        except ValueError:\n",
    "            print(\"Please enter a valid integer.\")\n",
    "\n",
    "    houses_solar_panels[f\"House {i}\"] = num_solar_panels\n",
    "\n",
    "    # Train the model using data for the current house\n",
    "    X_train = energy_consumption_df[[\"Solar Panels\"]]\n",
    "    y_train = energy_consumption_df.iloc[:, 2:]\n",
    "    model = train_model(X_train, y_train)\n",
    "\n",
    "    # Predict energy consumption for each month\n",
    "    monthly_predicted_energy[f\"House {i}\"] = {}\n",
    "    for month, consumption in zip(energy_consumption_df.columns[2:], model.predict([[num_solar_panels]])[0]):\n",
    "        # Add the predicted consumption to the total for this month\n",
    "        total_energy_consumption[month] = total_energy_consumption.get(month, 0) + consumption\n",
    "        monthly_predicted_energy[f\"House {i}\"][month] = consumption\n",
    "\n",
    "# Export the monthly predicted energy for all houses with solar panels mentioned\n",
    "with pd.ExcelWriter(\"monthly_predicted_energy.xlsx\") as writer:\n",
    "    for house, predictions in monthly_predicted_energy.items():\n",
    "        house_prediction_df = pd.DataFrame(predictions.items(), columns=[\"Month\", \"Predicted Energy Consumption\"])\n",
    "        house_prediction_df.to_excel(writer, sheet_name=house, index=False)\n",
    "\n",
    "    # Add a sheet for houses and their respective solar panels data entered by the user\n",
    "    pd.DataFrame.from_dict(houses_solar_panels, orient='index', columns=['Solar Panels']).to_excel(writer, sheet_name='Houses and Solar Panels')\n",
    "\n",
    "print(\"Monthly predicted energy and Houses and Solar Panels data exported to monthly_predicted_energy.xlsx\")\n"
   ]
  },
  {
   "cell_type": "code",
   "execution_count": null,
   "id": "98ef7157-e4eb-4a2c-b9f6-1bd8e65a30f5",
   "metadata": {},
   "outputs": [],
   "source": []
  }
 ],
 "metadata": {
  "kernelspec": {
   "display_name": "Python 3 (ipykernel)",
   "language": "python",
   "name": "python3"
  },
  "language_info": {
   "codemirror_mode": {
    "name": "ipython",
    "version": 3
   },
   "file_extension": ".py",
   "mimetype": "text/x-python",
   "name": "python",
   "nbconvert_exporter": "python",
   "pygments_lexer": "ipython3",
   "version": "3.11.5"
  }
 },
 "nbformat": 4,
 "nbformat_minor": 5
}
